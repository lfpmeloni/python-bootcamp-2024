{
 "cells": [
  {
   "cell_type": "markdown",
   "id": "7287edc4",
   "metadata": {},
   "source": [
    "# Recap\n",
    "\n",
    "On 06/05/2025 I took a Python aptitute test/interview for Tech Mahindra and I was not satisfied with the result. The questions were:\n",
    "\n",
    "1. Tell me about your experience\n",
    "2. Overall how many years of Python development you have\n",
    "3. What are tuples and lists, what is the diference between them? (Should know the concept for mutable vs. immutable objects and demonstrate declaration of each of them on Python, also try to change them).\n",
    "4. Dictionaries: Understand the basic declaration structure, how to add, remove a new item, etc and explain the benefits from each strucuture so far.\n",
    "5. Lambda functions: Explain what they are and use example.\n",
    "6. Object Oriented Programming. Understand the concepts and demonstrate a class and objects declaration, explain the concepts of inheritance, polymorphism and encapsulation.\n"
   ]
  },
  {
   "cell_type": "markdown",
   "id": "3cea3fa1",
   "metadata": {},
   "source": [
    "## Functions\n",
    "\n",
    "- Structure to get zero or more inputs and return something.\n",
    "- Functions in Python are of first class, that mean they can be given as parameters for other functions.\n",
    "- A lambda function is a small anonyumous function, that mean they dont need to be defined and given a name.\n",
    "- Its also best practive to give default values for variables on a function.\n",
    "- On most complex functions can be good to call them with exception handling"
   ]
  },
  {
   "cell_type": "code",
   "execution_count": 1,
   "id": "1dd7dd46",
   "metadata": {},
   "outputs": [
    {
     "name": "stdout",
     "output_type": "stream",
     "text": [
      "4\n",
      "6\n",
      "2\n",
      "5\n",
      "2\n",
      "-2\n",
      "cannot devide by zero\n"
     ]
    }
   ],
   "source": [
    "def double(x):\n",
    "    return x * 2\n",
    "\n",
    "print(double(2))\n",
    "\n",
    "def my_sum(x, y):\n",
    "    return (x + y)\n",
    "\n",
    "print(my_sum(2, 4))\n",
    "\n",
    "def apply_to_one(f):\n",
    "    return f(1)\n",
    "\n",
    "print(apply_to_one(double))\n",
    "# print(apply_to_one(my_sum)) # But will generate error if not properly handle expected input parameters\n",
    "\n",
    "y = apply_to_one(lambda x: x + 4)\n",
    "\n",
    "print(y)\n",
    "\n",
    "another_double = lambda x: 2 * x # I can assign a lambda to a variable, although i shouldnt!\n",
    "def another_double(x): return 2 * x # This is the right way to do it\n",
    "\n",
    "def subtract (a=0, b=0):\n",
    "    return a - b\n",
    "\n",
    "print(subtract(2))\n",
    "print(subtract(b=2))\n",
    "\n",
    "try:\n",
    "    print(0/0)\n",
    "except ZeroDivisionError:\n",
    "    print (\"cannot devide by zero\")"
   ]
  },
  {
   "cell_type": "markdown",
   "id": "e8e3ee9b",
   "metadata": {},
   "source": [
    "## Lists and Tuples\n",
    "\n",
    "- Lists are probably the most basic data structure in Python and is a ordenated collection like an array.\n",
    "- Has built in methods to it such as len, sum and range.\n",
    "- Tuples are just like lists but immutable. You cant change a tuple once declared."
   ]
  },
  {
   "cell_type": "code",
   "execution_count": 23,
   "id": "a474de4e",
   "metadata": {},
   "outputs": [
    {
     "name": "stdout",
     "output_type": "stream",
     "text": [
      "['str', 0.1, True]\n",
      "[[1, 2, 3], ['str', 0.1, True], []]\n",
      "3\n",
      "6\n",
      "3\n",
      "7\n",
      "range(0, 3)\n",
      "range(3, 10)\n",
      "range(0, 7)\n",
      "range(7, 10)\n",
      "range(0, 10)\n",
      "True\n",
      "False\n",
      "[1, 2, 3, 4, 5, 6]\n",
      "[1, 2, 3, 4, 5, 6] [1, 2, 3, 4, 5, 6, 7, 8, 9]\n",
      "1 2\n",
      "4\n",
      "cannot modify a tuple\n",
      "(8, 15)\n",
      "1 4\n",
      "4 1\n"
     ]
    }
   ],
   "source": [
    "int_list = [1, 2, 3]\n",
    "\n",
    "heterogenous_list = [\"str\", 0.1, True]\n",
    "print(heterogenous_list)\n",
    "\n",
    "list_of_lists = [int_list, heterogenous_list, []]\n",
    "print(list_of_lists)\n",
    "\n",
    "print(len(int_list))\n",
    "print(sum(int_list))\n",
    "\n",
    "range_list = range(10)\n",
    "print(range_list[3])\n",
    "print(range_list[-3])\n",
    "print(range_list[:3])\n",
    "print(range_list[3:])\n",
    "print(range_list[:-3])\n",
    "print(range_list[-3:])\n",
    "print(range_list[:])\n",
    "\n",
    "# Check associations within a list\n",
    "print(1 in [1, 2, 3])\n",
    "print(10 in [1, 2, 3])\n",
    "\n",
    "# Catenate lists\n",
    "int_list.extend([4, 5, 6])\n",
    "print(int_list)\n",
    "\n",
    "# Append without modification of the original\n",
    "new_int_list = int_list + [7, 8, 9]\n",
    "print(int_list, new_int_list)\n",
    "\n",
    "# Most simple append\n",
    "new_int_list.append(10)\n",
    "\n",
    "# Separate a list into declared variables\n",
    "x, y = [1, 2]\n",
    "print(x, y)\n",
    "\n",
    "# Ignore whatever value\n",
    "_, y = [2, 4]\n",
    "print(y)\n",
    "\n",
    "my_tuple = (1, 2)\n",
    "\n",
    "# Tuples\n",
    "try:\n",
    "    my_tuple[1] = 3\n",
    "except TypeError:\n",
    "    print(\"cannot modify a tuple\")\n",
    "\n",
    "# Tuples are good as return parameters for functions\n",
    "def sum_and_product(x, y):\n",
    "    return((x + y), (x * y))\n",
    "print(sum_and_product(3, 5))\n",
    "\n",
    "# Pythonic way to swap variables\n",
    "print(x, y)\n",
    "x, y = y, x\n",
    "print(x, y)"
   ]
  },
  {
   "cell_type": "markdown",
   "id": "eff45355",
   "metadata": {},
   "source": [
    "## Dictionaries\n",
    "\n",
    "- Key value associations\n",
    "- Great way to represent structured data\n",
    "- Keys in a dict are immutable and dont accept lists as keys (touples are ok)"
   ]
  },
  {
   "cell_type": "code",
   "execution_count": 18,
   "id": "d49f468b",
   "metadata": {},
   "outputs": [
    {
     "name": "stdout",
     "output_type": "stream",
     "text": [
      "80\n",
      "not on dict\n",
      "False\n",
      "95 0\n",
      "{'joe': 80, 'tim': 98, 'kim': 78} 3\n",
      "{'user': 'notme', 'text': 'i love python', 'retweets': 10, 'hashtag': ['#data', '#coding']}\n",
      "dict_keys(['user', 'text', 'retweets', 'hashtag'])\n",
      "dict_values(['notme', 'i love python', 10, ['#data', '#coding']])\n",
      "dict_items([('user', 'notme'), ('text', 'i love python'), ('retweets', 10), ('hashtag', ['#data', '#coding'])])\n",
      "True\n",
      "True\n",
      "defaultdict(<class 'list'>, {})\n",
      "defaultdict(<class 'list'>, {2: [1]})\n",
      "defaultdict(<class 'dict'>, {'Joel': {'City': 'Stuttgart'}})\n",
      "defaultdict(<function <lambda> at 0x0000015D97661120>, {2: [0, 1]})\n"
     ]
    }
   ],
   "source": [
    "my_dict = {} # Less pythonic dict = dict()\n",
    "grades = { \"joe\" : 80, \"tim\" : 95 } # Literal dictionary\n",
    "print(grades[\"joe\"])\n",
    "\n",
    "try:\n",
    "    print(grades[\"kat\"])\n",
    "except KeyError:\n",
    "    print(\"not on dict\")\n",
    "\n",
    "print(\"jow\" in my_dict)\n",
    "\n",
    "# Can also give default value if not found using get\n",
    "print(grades.get(\"tim\", 0), grades.get(\"kim\", 0))\n",
    "\n",
    "# Adding new key value pairs\n",
    "grades[\"tim\"] = 98\n",
    "grades[\"kim\"] = 78\n",
    "print(grades, len(grades))\n",
    "\n",
    "tweet = {\n",
    "    \"user\" : \"notme\",\n",
    "    \"text\" : \"i love python\",\n",
    "    \"retweets\" : 10,\n",
    "    \"hashtag\" : [\"#data\", \"#coding\"]\n",
    "}\n",
    "\n",
    "print(tweet)\n",
    "print(tweet.keys())\n",
    "print(tweet.values())\n",
    "print(tweet.items())\n",
    "print(\"user\" in tweet)\n",
    "print(\"notme\" in tweet.values())\n",
    "\n",
    "string = \"this is a big book almost\"\n",
    "letter_count = {}\n",
    "for letter in string:\n",
    "    if letter in letter_count:\n",
    "        letter_count[letter] += 1\n",
    "    else:\n",
    "        letter_count[letter] = 1\n",
    "\n",
    "from collections import defaultdict\n",
    "\n",
    "dd_list = defaultdict(list)\n",
    "print(dd_list)\n",
    "dd_list[2].append(1)\n",
    "print(dd_list)\n",
    "\n",
    "dd_dict = defaultdict(dict)\n",
    "dd_dict[\"Joel\"][\"City\"] = \"Stuttgart\"\n",
    "print(dd_dict)\n",
    "\n",
    "dd_pair = defaultdict(lambda: [0, 0])\n",
    "dd_pair[2][1] = 1\n",
    "print(dd_pair)\n",
    "\n",
    "person = {\"name\": \"Alice\", \"age\" : 30}\n",
    "person[\"email\"] = \"alice@gg.com\"\n",
    "\n",
    "person.update({\"age\" : 31})"
   ]
  },
  {
   "cell_type": "markdown",
   "id": "605c8ebe",
   "metadata": {},
   "source": [
    "## Other concepts\n",
    "\n",
    "- Sorting\n",
    "- List comprehension\n",
    "- Iterators\n",
    "- Randomness"
   ]
  },
  {
   "cell_type": "code",
   "execution_count": 19,
   "id": "6d7d53df",
   "metadata": {},
   "outputs": [
    {
     "name": "stdout",
     "output_type": "stream",
     "text": [
      "[1, 2, 3, 4]\n",
      "[-4, 3, -2, 1]\n",
      "[0, 2, 4]\n",
      "[0, 1, 4, 9, 16]\n",
      "[0, 4, 16]\n",
      "{0: 0, 1: 1, 2: 4, 3: 9, 4: 16}\n",
      "[0, 0, 0]\n",
      "[(0, 0), (0, 1), (0, 2), (0, 3), (0, 4), (0, 5), (0, 6), (0, 7), (0, 8), (0, 9), (1, 0), (1, 1), (1, 2), (1, 3), (1, 4), (1, 5), (1, 6), (1, 7), (1, 8), (1, 9), (2, 0), (2, 1), (2, 2), (2, 3), (2, 4), (2, 5), (2, 6), (2, 7), (2, 8), (2, 9), (3, 0), (3, 1), (3, 2), (3, 3), (3, 4), (3, 5), (3, 6), (3, 7), (3, 8), (3, 9), (4, 0), (4, 1), (4, 2), (4, 3), (4, 4), (4, 5), (4, 6), (4, 7), (4, 8), (4, 9), (5, 0), (5, 1), (5, 2), (5, 3), (5, 4), (5, 5), (5, 6), (5, 7), (5, 8), (5, 9), (6, 0), (6, 1), (6, 2), (6, 3), (6, 4), (6, 5), (6, 6), (6, 7), (6, 8), (6, 9), (7, 0), (7, 1), (7, 2), (7, 3), (7, 4), (7, 5), (7, 6), (7, 7), (7, 8), (7, 9), (8, 0), (8, 1), (8, 2), (8, 3), (8, 4), (8, 5), (8, 6), (8, 7), (8, 8), (8, 9), (9, 0), (9, 1), (9, 2), (9, 3), (9, 4), (9, 5), (9, 6), (9, 7), (9, 8), (9, 9)]\n",
      "[0.6394267984578837, 0.025010755222666936, 0.27502931836911926, 0.22321073814882275]\n",
      "unnamed args: (1, 2)\n",
      "keyword args: {'key': 'word', 'key2': 'word2'}\n"
     ]
    }
   ],
   "source": [
    "x = [4, 1, 2, 3]\n",
    "print(sorted(x))\n",
    "\n",
    "x = sorted([-4, 1, -2, 3], key=abs, reverse = True)\n",
    "print(x)\n",
    "\n",
    "# Organize words from count higher to lower\n",
    "# wc = sorted(word_counts.items(),\n",
    "#             key=lambda (word, count): count,\n",
    "#             reverse = True)\n",
    "\n",
    "# Transform a list in another\n",
    "even_numbers = [x for x in range(5) if x % 2 == 0]\n",
    "print(even_numbers)\n",
    "squares = [x * x for x in range(5)]\n",
    "print(squares)\n",
    "even_squares = [x * x for x in even_numbers]\n",
    "print(even_squares)\n",
    "\n",
    "# Transform lists into dictionaries\n",
    "square_dict = { x : x * x for x in range(5)}\n",
    "print(square_dict)\n",
    "\n",
    "# Whatever value\n",
    "zeroes = [0 for _ in even_numbers]\n",
    "print(zeroes)\n",
    "\n",
    "# Generating more complex comprehensions\n",
    "pairs = [\n",
    "    (x, y)\n",
    "    for x in range(10)\n",
    "    for y in range(10)\n",
    "]\n",
    "print(pairs)\n",
    "\n",
    "# Using yield to generate lists\n",
    "def lazy_range(n):\n",
    "    i = 0\n",
    "    while i < n:\n",
    "        yield i\n",
    "        i += 1\n",
    "\n",
    "# Randomness\n",
    "import random\n",
    "random.seed(42)\n",
    "random = [random.random() for _ in range(4)]\n",
    "print(random)\n",
    "\n",
    "# Args and Kwargs\n",
    "def magic (*args, **kwargs):\n",
    "    print(\"unnamed args:\", args)\n",
    "    print(\"keyword args:\", kwargs)\n",
    "\n",
    "magic(1, 2, key=\"word\", key2=\"word2\")\n"
   ]
  },
  {
   "cell_type": "markdown",
   "id": "74d46439",
   "metadata": {},
   "source": [
    "## Object Oriented Programming\n",
    "\n",
    "- Define classes that encapsulates data structures and functions\n",
    "- Use of magic methods"
   ]
  },
  {
   "cell_type": "code",
   "execution_count": null,
   "id": "c1ca476d",
   "metadata": {},
   "outputs": [
    {
     "name": "stdout",
     "output_type": "stream",
     "text": [
      "Point(4, 6)\n"
     ]
    }
   ],
   "source": [
    "class Point:\n",
    "    def __init__(self, x, y):\n",
    "        self.x, self.y = x, y\n",
    "\n",
    "    def __add__(self, other):\n",
    "        return Point(self.x + other.x, self.y + other.y)\n",
    "    \n",
    "    # String representation of the object for when you call print\n",
    "    def __repr__(self):\n",
    "        return f\"Point({self.x}, {self.y})\"\n",
    "    \n",
    "p1 = Point(1, 2)\n",
    "p2 = Point(3, 4)\n",
    "print(p1 + p2)"
   ]
  },
  {
   "cell_type": "markdown",
   "id": "d533fbc4",
   "metadata": {},
   "source": [
    "## Compacting and Ziping arguments\n",
    "\n",
    "- Transform two lists into a single one or the other way around"
   ]
  },
  {
   "cell_type": "code",
   "execution_count": null,
   "id": "3452d1b2",
   "metadata": {},
   "outputs": [
    {
     "name": "stdout",
     "output_type": "stream",
     "text": [
      "<zip object at 0x0000015D97671E80>\n"
     ]
    }
   ],
   "source": [
    "key = ['a', 'b', 'c']\n",
    "values = [1, 2, 3]\n",
    "new_decit = {zip(list1, list2)\n",
    "print(list3)"
   ]
  }
 ],
 "metadata": {
  "kernelspec": {
   "display_name": "base",
   "language": "python",
   "name": "python3"
  },
  "language_info": {
   "codemirror_mode": {
    "name": "ipython",
    "version": 3
   },
   "file_extension": ".py",
   "mimetype": "text/x-python",
   "name": "python",
   "nbconvert_exporter": "python",
   "pygments_lexer": "ipython3",
   "version": "3.12.7"
  }
 },
 "nbformat": 4,
 "nbformat_minor": 5
}
